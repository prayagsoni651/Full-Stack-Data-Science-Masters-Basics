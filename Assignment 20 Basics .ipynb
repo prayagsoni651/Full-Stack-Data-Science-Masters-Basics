{
 "cells": [
  {
   "cell_type": "code",
   "execution_count": 1,
   "id": "f7662b2f",
   "metadata": {},
   "outputs": [],
   "source": [
    "'''\n",
    "1. Set the variable test1 to the string &#39;This is a test of the emergency text system,&#39; and save test1 to a\n",
    "file named test.txt.\n",
    "\n",
    "'''\n",
    "\n",
    "# Set the variable test1 to the given string\n",
    "test1 = 'This is a test of the emergency text system,'\n",
    "\n",
    "# Open the file named test.txt in write mode and save test1 to it\n",
    "with open('test.txt', 'w') as file:\n",
    "    file.write(test1)\n"
   ]
  },
  {
   "cell_type": "code",
   "execution_count": 2,
   "id": "5cb850b4",
   "metadata": {},
   "outputs": [
    {
     "name": "stdout",
     "output_type": "stream",
     "text": [
      "test1 and test2 are identical.\n"
     ]
    }
   ],
   "source": [
    "'''\n",
    "2. Read the contents of the file test.txt into the variable test2. Is there a difference between test 1\n",
    "and test 2?\n",
    "\n",
    "'''\n",
    "\n",
    "# Read the contents of the file test.txt into the variable test2\n",
    "with open('test.txt', 'r') as file:\n",
    "    test2 = file.read()\n",
    "\n",
    "# Check if there's any difference between test1 and test2\n",
    "if test1 == test2:\n",
    "    print(\"test1 and test2 are identical.\")\n",
    "else:\n",
    "    print(\"There is a difference between test1 and test2.\")\n"
   ]
  },
  {
   "cell_type": "code",
   "execution_count": 3,
   "id": "0a894826",
   "metadata": {},
   "outputs": [
    {
     "name": "stdout",
     "output_type": "stream",
     "text": [
      "books.csv has been created successfully.\n"
     ]
    }
   ],
   "source": [
    "'''\n",
    "\n",
    "3. Create a CSV file called books.csv by using these lines:\n",
    "title,author,year\n",
    "The Weirdstone of Brisingamen,Alan Garner,1960\n",
    "Perdido Street Station,China Miéville,2000\n",
    "Thud!,Terry Pratchett,2005\n",
    "The Spellman Files,Lisa Lutz,2007\n",
    "Small Gods,Terry Pratchett,1992\n",
    "\n",
    "\n",
    "'''\n",
    "\n",
    "import csv\n",
    "\n",
    "# Define the data\n",
    "data = [\n",
    "    ['title', 'author', 'year'],\n",
    "    ['The Weirdstone of Brisingamen', 'Alan Garner', 1960],\n",
    "    ['Perdido Street Station', 'China Miéville', 2000],\n",
    "    ['Thud!', 'Terry Pratchett', 2005],\n",
    "    ['The Spellman Files', 'Lisa Lutz', 2007],\n",
    "    ['Small Gods', 'Terry Pratchett', 1992]\n",
    "]\n",
    "\n",
    "# Write data to the CSV file\n",
    "with open('books.csv', 'w', newline='') as file:\n",
    "    writer = csv.writer(file)\n",
    "    writer.writerows(data)\n",
    "\n",
    "print(\"books.csv has been created successfully.\")\n",
    "\n"
   ]
  },
  {
   "cell_type": "code",
   "execution_count": 4,
   "id": "dd53922f",
   "metadata": {},
   "outputs": [
    {
     "name": "stdout",
     "output_type": "stream",
     "text": [
      "books.db and the 'books' table have been created successfully.\n"
     ]
    }
   ],
   "source": [
    "'''\n",
    "4. Use the sqlite3 module to create a SQLite database called books.db, and a table called books with\n",
    "these fields: title (text), author (text), and year (integer).\n",
    "\n",
    "'''\n",
    "\n",
    "import sqlite3\n",
    "\n",
    "# Connect to the SQLite database (creates it if it doesn't exist)\n",
    "connection = sqlite3.connect('books.db')\n",
    "\n",
    "# Create a cursor object to execute SQL commands\n",
    "cursor = connection.cursor()\n",
    "\n",
    "# Define the SQL command to create the 'books' table\n",
    "create_table_query = '''\n",
    "CREATE TABLE IF NOT EXISTS books (\n",
    "    title TEXT,\n",
    "    author TEXT,\n",
    "    year INTEGER\n",
    ")\n",
    "'''\n",
    "\n",
    "# Execute the SQL command to create the 'books' table\n",
    "cursor.execute(create_table_query)\n",
    "\n",
    "# Commit the changes to the database\n",
    "connection.commit()\n",
    "\n",
    "# Close the connection\n",
    "connection.close()\n",
    "\n",
    "print(\"books.db and the 'books' table have been created successfully.\")\n"
   ]
  },
  {
   "cell_type": "code",
   "execution_count": 5,
   "id": "b64b58e3",
   "metadata": {},
   "outputs": [
    {
     "name": "stdout",
     "output_type": "stream",
     "text": [
      "Data from books.csv has been inserted into the 'books' table in books.db.\n"
     ]
    }
   ],
   "source": [
    "'''\n",
    "5. Read books.csv and insert its data into the book table.\n",
    "\n",
    "'''\n",
    "\n",
    "import csv\n",
    "import sqlite3\n",
    "\n",
    "# Connect to the SQLite database\n",
    "connection = sqlite3.connect('books.db')\n",
    "cursor = connection.cursor()\n",
    "\n",
    "# Read data from the CSV file and insert into the 'books' table\n",
    "with open('books.csv', 'r') as file:\n",
    "    # Create a CSV reader object\n",
    "    csv_reader = csv.reader(file)\n",
    "    \n",
    "    # Skip the header row\n",
    "    next(csv_reader)\n",
    "    \n",
    "    # Iterate over each row in the CSV file\n",
    "    for row in csv_reader:\n",
    "        # Insert each row into the 'books' table\n",
    "        cursor.execute('INSERT INTO books (title, author, year) VALUES (?, ?, ?)', row)\n",
    "\n",
    "# Commit the changes to the database\n",
    "connection.commit()\n",
    "\n",
    "# Close the connection\n",
    "connection.close()\n",
    "\n",
    "print(\"Data from books.csv has been inserted into the 'books' table in books.db.\")\n"
   ]
  },
  {
   "cell_type": "code",
   "execution_count": 6,
   "id": "1dc499e1",
   "metadata": {},
   "outputs": [
    {
     "name": "stdout",
     "output_type": "stream",
     "text": [
      "Titles in alphabetical order:\n",
      "Perdido Street Station\n",
      "Small Gods\n",
      "The Spellman Files\n",
      "The Weirdstone of Brisingamen\n",
      "Thud!\n"
     ]
    }
   ],
   "source": [
    "'''\n",
    "6. Select and print the title column from the book table in alphabetical order.\n",
    "\n",
    "'''\n",
    "\n",
    "import sqlite3\n",
    "\n",
    "# Connect to the SQLite database\n",
    "connection = sqlite3.connect('books.db')\n",
    "cursor = connection.cursor()\n",
    "\n",
    "# Execute the SQL query to select the title column from the books table in alphabetical order\n",
    "cursor.execute('SELECT title FROM books ORDER BY title')\n",
    "\n",
    "# Fetch all rows from the result set\n",
    "rows = cursor.fetchall()\n",
    "\n",
    "# Print the title column in alphabetical order\n",
    "print(\"Titles in alphabetical order:\")\n",
    "for row in rows:\n",
    "    print(row[0])  # Print the first column of each row (title)\n",
    "\n",
    "# Close the connection\n",
    "connection.close()\n"
   ]
  },
  {
   "cell_type": "code",
   "execution_count": 7,
   "id": "ef17734e",
   "metadata": {},
   "outputs": [
    {
     "name": "stdout",
     "output_type": "stream",
     "text": [
      "Books in the order of publication:\n",
      "Title: The Weirdstone of Brisingamen\n",
      "Author: Alan Garner\n",
      "Year: 1960\n",
      "\n",
      "Title: Small Gods\n",
      "Author: Terry Pratchett\n",
      "Year: 1992\n",
      "\n",
      "Title: Perdido Street Station\n",
      "Author: China Miéville\n",
      "Year: 2000\n",
      "\n",
      "Title: Thud!\n",
      "Author: Terry Pratchett\n",
      "Year: 2005\n",
      "\n",
      "Title: The Spellman Files\n",
      "Author: Lisa Lutz\n",
      "Year: 2007\n",
      "\n"
     ]
    }
   ],
   "source": [
    "'''\n",
    "7. From the book table, select and print all columns in the order of publication.\n",
    "\n",
    "'''\n",
    "\n",
    "import sqlite3\n",
    "\n",
    "# Connect to the SQLite database\n",
    "connection = sqlite3.connect('books.db')\n",
    "cursor = connection.cursor()\n",
    "\n",
    "# Execute the SQL query to select all columns from the books table in the order of publication\n",
    "cursor.execute('SELECT * FROM books ORDER BY year')\n",
    "\n",
    "# Fetch all rows from the result set\n",
    "rows = cursor.fetchall()\n",
    "\n",
    "# Print the results with column headers\n",
    "print(\"Books in the order of publication:\")\n",
    "for row in rows:\n",
    "    print(\"Title:\", row[0])\n",
    "    print(\"Author:\", row[1])\n",
    "    print(\"Year:\", row[2])\n",
    "    print()  # Empty line for better readability\n",
    "\n",
    "# Close the connection\n",
    "connection.close()\n"
   ]
  },
  {
   "cell_type": "code",
   "execution_count": 8,
   "id": "da0038b1",
   "metadata": {},
   "outputs": [
    {
     "name": "stdout",
     "output_type": "stream",
     "text": [
      "Connection to books.db using SQLAlchemy established successfully.\n"
     ]
    }
   ],
   "source": [
    "'''\n",
    "8. Use the sqlalchemy module to connect to the sqlite3 database books.db that you just made in\n",
    "exercise 6.\n",
    "\n",
    "\n",
    "'''\n",
    "\n",
    "from sqlalchemy import create_engine\n",
    "from sqlalchemy.orm import sessionmaker\n",
    "from sqlalchemy.ext.declarative import declarative_base\n",
    "from sqlalchemy import Column, Integer, String\n",
    "\n",
    "# Define the base class for declarative class definitions\n",
    "Base = declarative_base()\n",
    "\n",
    "# Define the Book class representing the books table\n",
    "class Book(Base):\n",
    "    __tablename__ = 'books'\n",
    "\n",
    "    id = Column(Integer, primary_key=True)\n",
    "    title = Column(String)\n",
    "    author = Column(String)\n",
    "    year = Column(Integer)\n",
    "\n",
    "# Create an engine to connect to the SQLite database\n",
    "engine = create_engine('sqlite:///books.db')\n",
    "\n",
    "# Create all tables defined by Base subclasses\n",
    "Base.metadata.create_all(engine)\n",
    "\n",
    "# Create a session maker bound to the engine\n",
    "Session = sessionmaker(bind=engine)\n",
    "\n",
    "# Create a session\n",
    "session = Session()\n",
    "\n",
    "print(\"Connection to books.db using SQLAlchemy established successfully.\")\n"
   ]
  },
  {
   "cell_type": "code",
   "execution_count": 10,
   "id": "9d91ef8e",
   "metadata": {},
   "outputs": [
    {
     "name": "stdout",
     "output_type": "stream",
     "text": [
      "Collecting redisNote: you may need to restart the kernel to use updated packages.\n",
      "\n",
      "  Obtaining dependency information for redis from https://files.pythonhosted.org/packages/65/f2/540ad07910732733138beb192991c67c69e7f6ebf549ce1a3a77846cbae7/redis-5.0.4-py3-none-any.whl.metadata\n",
      "  Downloading redis-5.0.4-py3-none-any.whl.metadata (9.3 kB)\n",
      "Downloading redis-5.0.4-py3-none-any.whl (251 kB)\n",
      "   ---------------------------------------- 0.0/252.0 kB ? eta -:--:--\n",
      "   ---------------------------------------- 0.0/252.0 kB ? eta -:--:--\n",
      "   ---------------------------------------- 0.0/252.0 kB ? eta -:--:--\n",
      "   ---------------------------------------- 0.0/252.0 kB ? eta -:--:--\n",
      "   ---------------------------------------- 0.0/252.0 kB ? eta -:--:--\n",
      "   ---------------------------------------- 0.0/252.0 kB ? eta -:--:--\n",
      "   ---------------------------------------- 0.0/252.0 kB ? eta -:--:--\n",
      "   - -------------------------------------- 10.2/252.0 kB ? eta -:--:--\n",
      "   - -------------------------------------- 10.2/252.0 kB ? eta -:--:--\n",
      "   - -------------------------------------- 10.2/252.0 kB ? eta -:--:--\n",
      "   ---- ---------------------------------- 30.7/252.0 kB 145.2 kB/s eta 0:00:02\n",
      "   ---- ---------------------------------- 30.7/252.0 kB 145.2 kB/s eta 0:00:02\n",
      "   ------ -------------------------------- 41.0/252.0 kB 131.3 kB/s eta 0:00:02\n",
      "   ----------- --------------------------- 71.7/252.0 kB 206.9 kB/s eta 0:00:01\n",
      "   ---------------- --------------------- 112.6/252.0 kB 297.7 kB/s eta 0:00:01\n",
      "   ------------------------ ------------- 163.8/252.0 kB 409.6 kB/s eta 0:00:01\n",
      "   ------------------------------ ------- 204.8/252.0 kB 461.0 kB/s eta 0:00:01\n",
      "   --------------------------------- ---- 225.3/252.0 kB 444.3 kB/s eta 0:00:01\n",
      "   -------------------------------------- 252.0/252.0 kB 468.4 kB/s eta 0:00:00\n",
      "Installing collected packages: redis\n",
      "Successfully installed redis-5.0.4\n"
     ]
    }
   ],
   "source": [
    "pip install redis"
   ]
  },
  {
   "cell_type": "code",
   "execution_count": null,
   "id": "ba2a3bd8",
   "metadata": {},
   "outputs": [],
   "source": [
    "'''\n",
    "9. Install the Redis server and the Python redis library (pip install redis) on your computer. Create a\n",
    "Redis hash called test with the fields count (1) and name (&#39;Fester Bestertester&#39;). Print all the fields for\n",
    "test.\n",
    "\n",
    "'''\n",
    "\n",
    "import redis\n",
    "\n",
    "# Connect to the Redis server\n",
    "redis_client = redis.Redis(host='localhost', port=6379, db=0)\n",
    "\n",
    "# Create a Redis hash called 'test' with the specified fields\n",
    "redis_client.hset('test', 'count', 1)\n",
    "redis_client.hset('test', 'name', 'Fester Bestertester')\n",
    "\n",
    "# Print all the fields for 'test'\n",
    "fields = redis_client.hgetall('test')\n",
    "print(\"Fields for 'test':\")\n",
    "for field, value in fields.items():\n",
    "    print(f\"{field.decode('utf-8')}: {value.decode('utf-8')}\")\n"
   ]
  },
  {
   "cell_type": "code",
   "execution_count": null,
   "id": "02913583",
   "metadata": {},
   "outputs": [],
   "source": [
    "'''\n",
    "10. Increment the count field of test and print it.\n",
    "\n",
    "'''\n",
    "\n",
    "import redis\n",
    "\n",
    "# Connect to the Redis server\n",
    "redis_client = redis.Redis(host='localhost', port=6379, db=0)\n",
    "\n",
    "# Increment the 'count' field of 'test' hash\n",
    "redis_client.hincrby('test', 'count', 1)\n",
    "\n",
    "# Print the updated value of 'count' field\n",
    "count_value = redis_client.hget('test', 'count')\n",
    "print(\"Updated value of 'count':\", count_value.decode('utf-8'))\n"
   ]
  },
  {
   "cell_type": "code",
   "execution_count": null,
   "id": "6d54f969",
   "metadata": {},
   "outputs": [],
   "source": []
  }
 ],
 "metadata": {
  "kernelspec": {
   "display_name": "Python 3 (ipykernel)",
   "language": "python",
   "name": "python3"
  },
  "language_info": {
   "codemirror_mode": {
    "name": "ipython",
    "version": 3
   },
   "file_extension": ".py",
   "mimetype": "text/x-python",
   "name": "python",
   "nbconvert_exporter": "python",
   "pygments_lexer": "ipython3",
   "version": "3.11.5"
  }
 },
 "nbformat": 4,
 "nbformat_minor": 5
}
